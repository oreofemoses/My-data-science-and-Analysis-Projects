{
 "cells": [
  {
   "cell_type": "code",
   "execution_count": 1,
   "id": "913f369f",
   "metadata": {},
   "outputs": [
    {
     "data": {
      "text/plain": [
       "array([0])"
      ]
     },
     "execution_count": 1,
     "metadata": {},
     "output_type": "execute_result"
    }
   ],
   "source": [
    "#Perceptrons:\n",
    "import numpy as np\n",
    "from sklearn.datasets import load_iris\n",
    "from sklearn.linear_model import Perceptron\n",
    "iris = load_iris()\n",
    "X = iris.data[:, (2, 3)] # petal length, petal width\n",
    "y = (iris.target == 0).astype(int) # Iris Setosa?\n",
    "per_clf = Perceptron()\n",
    "per_clf.fit(X, y)\n",
    "per_clf.predict([[2, 0.5]])"
   ]
  },
  {
   "cell_type": "code",
   "execution_count": 2,
   "id": "5c7b1ae1",
   "metadata": {},
   "outputs": [
    {
     "data": {
      "text/plain": [
       "'2.13.0'"
      ]
     },
     "execution_count": 2,
     "metadata": {},
     "output_type": "execute_result"
    }
   ],
   "source": [
    "#Multi-Layer Perceptron and Backpropagation\n",
    "#When an ANN contains a deep stack of hidden layers, it is called a deep neural network (DNN).\n",
    "#We can use MLPs for: Binary classication, Multilabel binary classication, Multiclass classication\n",
    "#Implementation:\n",
    "import tensorflow as tf\n",
    "from tensorflow import keras\n",
    "tf.__version__\n"
   ]
  },
  {
   "cell_type": "code",
   "execution_count": 3,
   "id": "97afe1bc",
   "metadata": {},
   "outputs": [],
   "source": [
    "#Alright so we will be using ft.keras to train and learn on the fasion mnist dataset:\n",
    "\n",
    "#First, we load the data\n",
    "fashion_mnist = keras.datasets.fashion_mnist\n",
    "(X_train_full, y_train_full), (X_test, y_test) = fashion_mnist.load_data()"
   ]
  },
  {
   "cell_type": "code",
   "execution_count": 4,
   "id": "cfe450c1",
   "metadata": {},
   "outputs": [
    {
     "data": {
      "text/plain": [
       "(60000, 28, 28)"
      ]
     },
     "execution_count": 4,
     "metadata": {},
     "output_type": "execute_result"
    }
   ],
   "source": [
    "X_train_full.shape"
   ]
  },
  {
   "cell_type": "code",
   "execution_count": 5,
   "id": "519003df",
   "metadata": {},
   "outputs": [],
   "source": [
    "#so now lets split the train dataset to train and val dataset. \n",
    "#For simplicity, we just scale the pixel intensities down to the 0-1 range by dividing them by 255.0\n",
    "X_valid, X_train = X_train_full[:5000] / 255.0, X_train_full[5000:] / 255.0\n",
    "y_valid, y_train = y_train_full[:5000], y_train_full[5000:]"
   ]
  },
  {
   "cell_type": "code",
   "execution_count": 6,
   "id": "89abce1e",
   "metadata": {},
   "outputs": [],
   "source": [
    "#we will also be needing the class names of our data so...\n",
    "class_names = [\"T-shirt/top\", \"Trouser\", \"Pullover\", \"Dress\", \"Coat\", \"Sandal\", \"Shirt\", \"Sneaker\", \"Bag\", \"Ankle boot\"]"
   ]
  },
  {
   "cell_type": "code",
   "execution_count": 7,
   "id": "fb28da39",
   "metadata": {},
   "outputs": [],
   "source": [
    "#Now let’s build the neural network! Here is a classification MLP with two hidden layers:\n",
    "model = keras.models.Sequential()\n",
    "model.add(keras.layers.Flatten(input_shape=[28, 28]))\n",
    "model.add(keras.layers.Dense(300, activation=\"relu\"))\n",
    "model.add(keras.layers.Dense(100, activation=\"relu\"))\n",
    "model.add(keras.layers.Dense(10, activation=\"softmax\"))"
   ]
  },
  {
   "cell_type": "code",
   "execution_count": 8,
   "id": "e0217f33",
   "metadata": {},
   "outputs": [
    {
     "name": "stdout",
     "output_type": "stream",
     "text": [
      "Model: \"sequential\"\n",
      "_________________________________________________________________\n",
      " Layer (type)                Output Shape              Param #   \n",
      "=================================================================\n",
      " flatten (Flatten)           (None, 784)               0         \n",
      "                                                                 \n",
      " dense (Dense)               (None, 300)               235500    \n",
      "                                                                 \n",
      " dense_1 (Dense)             (None, 100)               30100     \n",
      "                                                                 \n",
      " dense_2 (Dense)             (None, 10)                1010      \n",
      "                                                                 \n",
      "=================================================================\n",
      "Total params: 266610 (1.02 MB)\n",
      "Trainable params: 266610 (1.02 MB)\n",
      "Non-trainable params: 0 (0.00 Byte)\n",
      "_________________________________________________________________\n"
     ]
    }
   ],
   "source": [
    "#Lets view the model layers\n",
    "model.summary()"
   ]
  },
  {
   "cell_type": "code",
   "execution_count": 9,
   "id": "8c5a0fc5",
   "metadata": {},
   "outputs": [
    {
     "data": {
      "text/plain": [
       "(array([[-0.06452584, -0.01002304, -0.04436434, ..., -0.02231461,\n",
       "          0.04254539,  0.03409675],\n",
       "        [-0.05074376,  0.05588576,  0.01594791, ..., -0.07276185,\n",
       "          0.0679089 ,  0.00316866],\n",
       "        [ 0.04931135, -0.04706101,  0.00576601, ...,  0.02527393,\n",
       "         -0.05719113, -0.02586841],\n",
       "        ...,\n",
       "        [ 0.01345005,  0.04441172, -0.05330942, ...,  0.06599291,\n",
       "          0.06089827, -0.04433878],\n",
       "        [-0.00139982, -0.02519238, -0.05851949, ...,  0.05112222,\n",
       "          0.04073716, -0.03576735],\n",
       "        [-0.02177476, -0.01063517, -0.05901664, ...,  0.02597781,\n",
       "         -0.06013984,  0.06653751]], dtype=float32),\n",
       " array([0., 0., 0., 0., 0., 0., 0., 0., 0., 0., 0., 0., 0., 0., 0., 0., 0.,\n",
       "        0., 0., 0., 0., 0., 0., 0., 0., 0., 0., 0., 0., 0., 0., 0., 0., 0.,\n",
       "        0., 0., 0., 0., 0., 0., 0., 0., 0., 0., 0., 0., 0., 0., 0., 0., 0.,\n",
       "        0., 0., 0., 0., 0., 0., 0., 0., 0., 0., 0., 0., 0., 0., 0., 0., 0.,\n",
       "        0., 0., 0., 0., 0., 0., 0., 0., 0., 0., 0., 0., 0., 0., 0., 0., 0.,\n",
       "        0., 0., 0., 0., 0., 0., 0., 0., 0., 0., 0., 0., 0., 0., 0., 0., 0.,\n",
       "        0., 0., 0., 0., 0., 0., 0., 0., 0., 0., 0., 0., 0., 0., 0., 0., 0.,\n",
       "        0., 0., 0., 0., 0., 0., 0., 0., 0., 0., 0., 0., 0., 0., 0., 0., 0.,\n",
       "        0., 0., 0., 0., 0., 0., 0., 0., 0., 0., 0., 0., 0., 0., 0., 0., 0.,\n",
       "        0., 0., 0., 0., 0., 0., 0., 0., 0., 0., 0., 0., 0., 0., 0., 0., 0.,\n",
       "        0., 0., 0., 0., 0., 0., 0., 0., 0., 0., 0., 0., 0., 0., 0., 0., 0.,\n",
       "        0., 0., 0., 0., 0., 0., 0., 0., 0., 0., 0., 0., 0., 0., 0., 0., 0.,\n",
       "        0., 0., 0., 0., 0., 0., 0., 0., 0., 0., 0., 0., 0., 0., 0., 0., 0.,\n",
       "        0., 0., 0., 0., 0., 0., 0., 0., 0., 0., 0., 0., 0., 0., 0., 0., 0.,\n",
       "        0., 0., 0., 0., 0., 0., 0., 0., 0., 0., 0., 0., 0., 0., 0., 0., 0.,\n",
       "        0., 0., 0., 0., 0., 0., 0., 0., 0., 0., 0., 0., 0., 0., 0., 0., 0.,\n",
       "        0., 0., 0., 0., 0., 0., 0., 0., 0., 0., 0., 0., 0., 0., 0., 0., 0.,\n",
       "        0., 0., 0., 0., 0., 0., 0., 0., 0., 0., 0.], dtype=float32))"
      ]
     },
     "execution_count": 9,
     "metadata": {},
     "output_type": "execute_result"
    }
   ],
   "source": [
    "weights, biases = model.layers[1].get_weights()#Get the weights of the 2nd layer\n",
    "weights, biases"
   ]
  },
  {
   "cell_type": "code",
   "execution_count": 10,
   "id": "5da5b27d",
   "metadata": {},
   "outputs": [],
   "source": [
    "#Compiling the Model\n",
    "#After a model is created, you must call its compile() method to specify the loss function and the optimizer to use.\n",
    "model.compile(loss=\"sparse_categorical_crossentropy\", optimizer=\"sgd\", metrics=[\"accuracy\"])"
   ]
  },
  {
   "cell_type": "code",
   "execution_count": 11,
   "id": "607e9f9a",
   "metadata": {},
   "outputs": [
    {
     "name": "stdout",
     "output_type": "stream",
     "text": [
      "Epoch 1/10\n",
      "1719/1719 [==============================] - 11s 6ms/step - loss: 0.7172 - accuracy: 0.7655 - val_loss: 0.5003 - val_accuracy: 0.8304\n",
      "Epoch 2/10\n",
      "1719/1719 [==============================] - 10s 6ms/step - loss: 0.4862 - accuracy: 0.8311 - val_loss: 0.4372 - val_accuracy: 0.8508\n",
      "Epoch 3/10\n",
      "1719/1719 [==============================] - 10s 6ms/step - loss: 0.4418 - accuracy: 0.8453 - val_loss: 0.4461 - val_accuracy: 0.8400\n",
      "Epoch 4/10\n",
      "1719/1719 [==============================] - 11s 6ms/step - loss: 0.4135 - accuracy: 0.8547 - val_loss: 0.4382 - val_accuracy: 0.8394\n",
      "Epoch 5/10\n",
      "1719/1719 [==============================] - 10s 6ms/step - loss: 0.3938 - accuracy: 0.8619 - val_loss: 0.3849 - val_accuracy: 0.8682\n",
      "Epoch 6/10\n",
      "1719/1719 [==============================] - 9s 5ms/step - loss: 0.3768 - accuracy: 0.8673 - val_loss: 0.3614 - val_accuracy: 0.8726\n",
      "Epoch 7/10\n",
      "1719/1719 [==============================] - 10s 6ms/step - loss: 0.3636 - accuracy: 0.8713 - val_loss: 0.3693 - val_accuracy: 0.8716\n",
      "Epoch 8/10\n",
      "1719/1719 [==============================] - 10s 6ms/step - loss: 0.3522 - accuracy: 0.8743 - val_loss: 0.3777 - val_accuracy: 0.8660\n",
      "Epoch 9/10\n",
      "1719/1719 [==============================] - 10s 6ms/step - loss: 0.3412 - accuracy: 0.8784 - val_loss: 0.3443 - val_accuracy: 0.8814\n",
      "Epoch 10/10\n",
      "1719/1719 [==============================] - 11s 6ms/step - loss: 0.3326 - accuracy: 0.8823 - val_loss: 0.3470 - val_accuracy: 0.8766\n"
     ]
    }
   ],
   "source": [
    "#Now we train the model:\n",
    "history = model.fit(X_train, y_train, epochs=10, validation_data=(X_valid, y_valid))#It is not compulsary to add the calidtion_data"
   ]
  },
  {
   "cell_type": "code",
   "execution_count": 12,
   "id": "7a1bf99f",
   "metadata": {},
   "outputs": [
    {
     "data": {
      "text/plain": [
       "2002566795"
      ]
     },
     "execution_count": 12,
     "metadata": {},
     "output_type": "execute_result"
    }
   ],
   "source": [
    "2002566795"
   ]
  },
  {
   "cell_type": "code",
   "execution_count": 13,
   "id": "9b17cecc",
   "metadata": {},
   "outputs": [
    {
     "data": {
      "image/png": "[encoded data removed]",
      "text/plain": [
       "<Figure size 800x500 with 1 Axes>"
      ]
     },
     "metadata": {},
     "output_type": "display_data"
    }
   ],
   "source": [
    "import pandas as pd\n",
    "import matplotlib.pyplot as plt\n",
    "pd.DataFrame(history.history).plot(figsize=(8, 5))\n",
    "plt.grid(True)\n",
    "plt.gca().set_ylim(0, 1) # set the vertical range to [0-1]\n",
    "plt.show()"
   ]
  },
  {
   "cell_type": "code",
   "execution_count": 14,
   "id": "c57ef3d5",
   "metadata": {},
   "outputs": [
    {
     "name": "stdout",
     "output_type": "stream",
     "text": [
      "313/313 [==============================] - 1s 3ms/step - loss: 67.1140 - accuracy: 0.8360\n"
     ]
    },
    {
     "data": {
      "text/plain": [
       "[67.11396026611328, 0.8360000252723694]"
      ]
     },
     "execution_count": 14,
     "metadata": {},
     "output_type": "execute_result"
    }
   ],
   "source": [
    "#Now we evaluate on the test set:\n",
    "model.evaluate(X_test, y_test)"
   ]
  },
  {
   "cell_type": "code",
   "execution_count": 15,
   "id": "4173b756",
   "metadata": {},
   "outputs": [
    {
     "name": "stdout",
     "output_type": "stream",
     "text": [
      "1/1 [==============================] - 0s 193ms/step\n"
     ]
    },
    {
     "data": {
      "text/plain": [
       "array([[0., 0., 0., 0., 0., 0., 0., 0., 0., 1.],\n",
       "       [0., 0., 1., 0., 0., 0., 0., 0., 0., 0.],\n",
       "       [0., 1., 0., 0., 0., 0., 0., 0., 0., 0.]], dtype=float32)"
      ]
     },
     "execution_count": 15,
     "metadata": {},
     "output_type": "execute_result"
    }
   ],
   "source": [
    "X_new = X_test[:3]\n",
    "y_proba = model.predict(X_new)\n",
    "y_proba.round(2)"
   ]
  },
  {
   "cell_type": "code",
   "execution_count": 16,
   "id": "2a0cf2b2",
   "metadata": {},
   "outputs": [],
   "source": [
    "y_pred = [list(n).index(max(n)) for n in y_proba]"
   ]
  },
  {
   "cell_type": "code",
   "execution_count": 17,
   "id": "e61a40a5",
   "metadata": {},
   "outputs": [
    {
     "data": {
      "text/plain": [
       "(['Ankle boot', 'Pullover', 'Trouser'], ['Ankle boot', 'Pullover', 'Trouser'])"
      ]
     },
     "execution_count": 17,
     "metadata": {},
     "output_type": "execute_result"
    }
   ],
   "source": [
    "[class_names[n] for n in y_pred], [class_names[n] for n in y_test[:3]]\n",
    "#well there you go.. Our classifier did pretty well"
   ]
  },
  {
   "cell_type": "code",
   "execution_count": 18,
   "id": "1c9aea05",
   "metadata": {},
   "outputs": [],
   "source": [
    "#Building a Regression MLP Using the Sequential API: well we'll be using the carlifonia dataset...\n",
    "from sklearn.datasets import fetch_california_housing\n",
    "from sklearn.model_selection import train_test_split\n",
    "from sklearn.preprocessing import StandardScaler\n",
    "housing = fetch_california_housing()\n",
    "X_train_full, X_test, y_train_full, y_test = train_test_split(housing.data, housing.target)\n",
    "X_train, X_valid, y_train, y_valid = train_test_split(X_train_full, y_train_full)\n",
    "scaler = StandardScaler()\n",
    "X_train_scaled = scaler.fit_transform(X_train)\n",
    "X_valid_scaled = scaler.transform(X_valid)\n",
    "X_test_scaled = scaler.transform(X_test)\n",
    "#Note tis dataset version is much simpler than the one seen in the previous example..."
   ]
  },
  {
   "cell_type": "code",
   "execution_count": 19,
   "id": "0ceaaefb",
   "metadata": {},
   "outputs": [],
   "source": [
    "#We define the model:\n",
    "model = keras.models.Sequential([\n",
    " keras.layers.Dense(30, activation=\"relu\", input_shape=X_train.shape[1:]),\n",
    " keras.layers.Dense(1)])"
   ]
  },
  {
   "cell_type": "code",
   "execution_count": 20,
   "id": "59512510",
   "metadata": {},
   "outputs": [],
   "source": [
    "#compile the model:\n",
    "model.compile(loss=\"mean_squared_error\", optimizer=\"adam\", metrics=[\"mse\"])"
   ]
  },
  {
   "cell_type": "code",
   "execution_count": 21,
   "id": "71da1662",
   "metadata": {},
   "outputs": [
    {
     "name": "stdout",
     "output_type": "stream",
     "text": [
      "Epoch 1/3\n",
      "363/363 [==============================] - 3s 5ms/step - loss: 56.0974 - mse: 56.0974 - val_loss: 1.8323 - val_mse: 1.8323\n",
      "Epoch 2/3\n",
      "363/363 [==============================] - 1s 4ms/step - loss: 2.3379 - mse: 2.3379 - val_loss: 1.2176 - val_mse: 1.2176\n",
      "Epoch 3/3\n",
      "363/363 [==============================] - 1s 4ms/step - loss: 1.3955 - mse: 1.3955 - val_loss: 1.0201 - val_mse: 1.0201\n"
     ]
    }
   ],
   "source": [
    "#Train the model\n",
    "history = model.fit(X_train, y_train, epochs=3, validation_data=(X_valid, y_valid))"
   ]
  },
  {
   "cell_type": "code",
   "execution_count": 22,
   "id": "fc133e62",
   "metadata": {},
   "outputs": [
    {
     "name": "stdout",
     "output_type": "stream",
     "text": [
      "162/162 [==============================] - 1s 3ms/step - loss: 1.1433 - mse: 1.1433\n"
     ]
    }
   ],
   "source": [
    "mse_test = model.evaluate(X_test, y_test)"
   ]
  },
  {
   "cell_type": "code",
   "execution_count": 23,
   "id": "79948451",
   "metadata": {},
   "outputs": [],
   "source": [
    "#Building Complex Models Using the Functional API \n",
    "input = keras.layers.Input(shape=X_train.shape[1:])\n",
    "hidden1 = keras.layers.Dense(30, activation=\"relu\")(input)\n",
    "hidden2 = keras.layers.Dense(30, activation=\"relu\")(hidden1)\n",
    "concat = keras.layers.Concatenate()([input, hidden2])#concatenate layer that moves the input upward towards \n",
    "output = keras.layers.Dense(1)(concat)\n",
    "model = keras.models.Model(inputs=[input], outputs=[output])\n",
    "#A basic Wide nd Deep MLP"
   ]
  },
  {
   "cell_type": "code",
   "execution_count": 24,
   "id": "db3e54a5",
   "metadata": {},
   "outputs": [],
   "source": [
    "#We can also split the features: only one goes deep and the other goes wide...\n",
    "input_A = keras.layers.Input(shape=[5])\n",
    "input_B = keras.layers.Input(shape=[6])\n",
    "hidden1 = keras.layers.Dense(30, activation=\"relu\")(input_B)\n",
    "hidden2 = keras.layers.Dense(30, activation=\"relu\")(hidden1)\n",
    "concat = keras.layers.concatenate([input_A, hidden2])\n",
    "output = keras.layers.Dense(1)(concat)\n",
    "model = keras.models.Model(inputs=[input_A, input_B], outputs=[output])"
   ]
  },
  {
   "cell_type": "code",
   "execution_count": 25,
   "id": "734c68c7",
   "metadata": {},
   "outputs": [
    {
     "name": "stdout",
     "output_type": "stream",
     "text": [
      "Epoch 1/2\n",
      "363/363 [==============================] - 4s 5ms/step - loss: 692.7478 - mse: 692.7478 - val_loss: 3.8063 - val_mse: 3.8063\n",
      "Epoch 2/2\n",
      "363/363 [==============================] - 1s 4ms/step - loss: 3.6846 - mse: 3.6846 - val_loss: 3.4650 - val_mse: 3.4650\n",
      "162/162 [==============================] - 1s 3ms/step - loss: 3.6991 - mse: 3.6991\n",
      "1/1 [==============================] - 0s 151ms/step\n"
     ]
    }
   ],
   "source": [
    "model.compile(loss=\"mean_squared_error\", optimizer=\"adam\", metrics=[\"mse\"])\n",
    "X_train_A, X_train_B = X_train[:, :5], X_train[:, 2:]\n",
    "X_valid_A, X_valid_B = X_valid[:, :5], X_valid[:, 2:]\n",
    "X_test_A, X_test_B = X_test[:, :5], X_test[:, 2:]\n",
    "X_new_A, X_new_B = X_test_A[:3], X_test_B[:3]\n",
    "history = model.fit((X_train_A, X_train_B), y_train, epochs=2, validation_data=((X_valid_A, X_valid_B), y_valid))\n",
    "mse_test = model.evaluate((X_test_A, X_test_B), y_test)\n",
    "y_pred = model.predict((X_new_A, X_new_B))\n",
    "#Note that we also have to split the input features since the model relies on split features..."
   ]
  },
  {
   "cell_type": "code",
   "execution_count": 26,
   "id": "0426a897",
   "metadata": {},
   "outputs": [
    {
     "data": {
      "text/plain": [
       "(array([[3.781912 ],\n",
       "        [3.3656104],\n",
       "        [2.3598769]], dtype=float32),\n",
       " array([3.864, 1.775, 1.091]))"
      ]
     },
     "execution_count": 26,
     "metadata": {},
     "output_type": "execute_result"
    }
   ],
   "source": [
    "y_pred, y_test[:3]"
   ]
  },
  {
   "cell_type": "code",
   "execution_count": 27,
   "id": "3f02d81b",
   "metadata": {},
   "outputs": [
    {
     "data": {
      "text/plain": [
       "[3.699144124984741, 3.699144124984741]"
      ]
     },
     "execution_count": 27,
     "metadata": {},
     "output_type": "execute_result"
    }
   ],
   "source": [
    "mse_test"
   ]
  },
  {
   "cell_type": "code",
   "execution_count": 28,
   "id": "41f02f81",
   "metadata": {},
   "outputs": [],
   "source": [
    "#A multiple output model:\n",
    "input_A = keras.layers.Input(shape=[5])\n",
    "input_B = keras.layers.Input(shape=[6])\n",
    "hidden1 = keras.layers.Dense(30, activation=\"relu\")(input_B)\n",
    "hidden2 = keras.layers.Dense(30, activation=\"relu\")(hidden1)\n",
    "concat = keras.layers.concatenate([input_A, hidden2])\n",
    "output = keras.layers.Dense(1)(concat)\n",
    "aux_output = keras.layers.Dense(1)(hidden2)\n",
    "model = keras.models.Model(inputs=[input_A, input_B], outputs=[output, aux_output])\n",
    "#Two outputs, One without the concatenation, and one with concatenation\n",
    "model.compile(loss=[\"mse\", \"mse\"], loss_weights=[0.9, 0.1], optimizer=\"adam\")\n",
    "#we must also specify the loss fuction for the two outputs,else keras will just apply the same loss function accross the outputs\n",
    "#we also set the loss weight, which tells keras that we care a lot more about the loss on the main output than the aux-output"
   ]
  },
  {
   "cell_type": "code",
   "execution_count": 29,
   "id": "97677672",
   "metadata": {},
   "outputs": [
    {
     "name": "stdout",
     "output_type": "stream",
     "text": [
      "Epoch 1/2\n",
      "363/363 [==============================] - 6s 9ms/step - loss: 534.3419 - dense_13_loss: 569.0551 - dense_14_loss: 221.9209 - val_loss: 11.0745 - val_dense_13_loss: 11.8369 - val_dense_14_loss: 4.2134\n",
      "Epoch 2/2\n",
      "363/363 [==============================] - 2s 6ms/step - loss: 27.2012 - dense_13_loss: 28.5232 - dense_14_loss: 15.3030 - val_loss: 261.0389 - val_dense_13_loss: 281.4244 - val_dense_14_loss: 77.5689\n"
     ]
    }
   ],
   "source": [
    "#When training, instead of passing y_train, we just need to pass (y_train, y_train) (and the same goes for y_valid and y_test):\n",
    "history = model.fit(\n",
    " [X_train_A, X_train_B], [y_train, y_train], epochs=2,\n",
    " validation_data=([X_valid_A, X_valid_B], [y_valid, y_valid]))"
   ]
  },
  {
   "cell_type": "code",
   "execution_count": 30,
   "id": "7e5b9c0c",
   "metadata": {},
   "outputs": [
    {
     "name": "stdout",
     "output_type": "stream",
     "text": [
      "162/162 [==============================] - 1s 4ms/step - loss: 250.3864 - dense_13_loss: 269.5150 - dense_14_loss: 78.2287\n"
     ]
    }
   ],
   "source": [
    "total_loss, main_loss, aux_loss = model.evaluate([X_test_A, X_test_B], [y_test, y_test])"
   ]
  },
  {
   "cell_type": "code",
   "execution_count": 31,
   "id": "2c01a670",
   "metadata": {},
   "outputs": [
    {
     "data": {
      "text/plain": [
       "(250.3864288330078, 269.5150146484375, 78.2286605834961)"
      ]
     },
     "execution_count": 31,
     "metadata": {},
     "output_type": "execute_result"
    }
   ],
   "source": [
    "total_loss, main_loss, aux_loss"
   ]
  },
  {
   "cell_type": "code",
   "execution_count": 32,
   "id": "7a9c20b6",
   "metadata": {},
   "outputs": [
    {
     "name": "stdout",
     "output_type": "stream",
     "text": [
      "1/1 [==============================] - 0s 150ms/step\n"
     ]
    }
   ],
   "source": [
    "#Similarly, the predict() method will return predictions for each output:\n",
    "y_pred_main, y_pred_aux = model.predict([X_new_A, X_new_B])"
   ]
  },
  {
   "cell_type": "code",
   "execution_count": 33,
   "id": "8beec83a",
   "metadata": {},
   "outputs": [
    {
     "data": {
      "text/plain": [
       "(array([[ 5.2329626],\n",
       "        [19.702917 ],\n",
       "        [ 6.966193 ]], dtype=float32),\n",
       " array([[  1.7073781],\n",
       "        [-10.909861 ],\n",
       "        [  1.3941038]], dtype=float32),\n",
       " array([3.864, 1.775, 1.091]))"
      ]
     },
     "execution_count": 33,
     "metadata": {},
     "output_type": "execute_result"
    }
   ],
   "source": [
    "y_pred_main, y_pred_aux, y_test[:3]"
   ]
  },
  {
   "cell_type": "code",
   "execution_count": 34,
   "id": "a3abc18b",
   "metadata": {},
   "outputs": [],
   "source": [
    "#for models involve loops, varying shapes, conditional branching, and other dynamic behaviors.\n",
    "#Well basically create a Deep and Wide model as a class so you can call it at any point in a code this makes it easier\n",
    "#  to code models using if statements and co.\n",
    "class WideAndDeepModel(keras.models.Model):\n",
    "    def __init__(self, units=30, activation=\"relu\", **kwargs):\n",
    "        super().__init__(**kwargs) # handles standard args (e.g., name)\n",
    "        self.hidden1 = keras.layers.Dense(units, activation=activation)\n",
    "        self.hidden2 = keras.layers.Dense(units, activation=activation)\n",
    "        self.main_output = keras.layers.Dense(1)\n",
    "        self.aux_output = keras.layers.Dense(1)\n",
    "    def call(self, inputs):\n",
    "        input_A, input_B = inputs\n",
    "        hidden1 = self.hidden1(input_B)\n",
    "        hidden2 = self.hidden2(hidden1)\n",
    "        concat = keras.layers.concatenate([input_A, hidden2])\n",
    "        main_output = self.main_output(concat)\n",
    "        aux_output = self.aux_output(hidden2)\n",
    "        return main_output, aux_output\n",
    "model = WideAndDeepModel()\n",
    "#Just like that we have the model and whenever we use the Call() method we just need to pass a list of the split features data."
   ]
  },
  {
   "cell_type": "code",
   "execution_count": null,
   "id": "3e57447e",
   "metadata": {},
   "outputs": [],
   "source": [
    "#Saving and Restoring a Model:\n",
    "#Saving a trained Keras model is as simple as it gets:\n",
    "model.save(\"my_keras_model.h5\")"
   ]
  },
  {
   "cell_type": "code",
   "execution_count": null,
   "id": "72196c8d",
   "metadata": {},
   "outputs": [],
   "source": [
    "#Loading the model is just as easy:\n",
    "model = keras.models.load_model(\"my_keras_model.h5\")"
   ]
  },
  {
   "cell_type": "code",
   "execution_count": null,
   "id": "4dd2e1ee",
   "metadata": {},
   "outputs": [],
   "source": [
    "#If for example you are training on a very large lataset that may take hours to reain you might want to save the model as the \n",
    "#training progresses.\n",
    "[...] # build and compile the model\n",
    "checkpoint_cb = keras.callbacks.ModelCheckpoint(\"my_keras_model.h5\")# saves the model at the end of ach epoch...\n",
    "history = model.fit(X_train, y_train, epochs=10, callbacks=[checkpoint_cb]) #add the callback when fitting the data"
   ]
  },
  {
   "cell_type": "code",
   "execution_count": 37,
   "id": "ee5c9755",
   "metadata": {},
   "outputs": [
    {
     "data": {
      "text/plain": [
       "array([2.298  , 5.00001, 1.016  , ..., 3.882  , 3.556  , 5.00001])"
      ]
     },
     "execution_count": 37,
     "metadata": {},
     "output_type": "execute_result"
    }
   ],
   "source": [
    "y_train_full"
   ]
  },
  {
   "cell_type": "code",
   "execution_count": null,
   "id": "b58b7a5f",
   "metadata": {},
   "outputs": [],
   "source": []
  }
 ],
 "metadata": {
  "kernelspec": {
   "display_name": "Python 3 (ipykernel)",
   "language": "python",
   "name": "python3"
  },
  "language_info": {
   "codemirror_mode": {
    "name": "ipython",
    "version": 3
   },
   "file_extension": ".py",
   "mimetype": "text/x-python",
   "name": "python",
   "nbconvert_exporter": "python",
   "pygments_lexer": "ipython3",
   "version": "3.10.11"
  }
 },
 "nbformat": 4,
 "nbformat_minor": 5
}
